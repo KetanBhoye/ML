{
 "cells": [
  {
   "cell_type": "code",
   "execution_count": 1,
   "metadata": {},
   "outputs": [],
   "source": [
    "import pandas as pd\n",
    "import pandas as pd\n",
    "from sklearn.model_selection import train_test_split\n",
    "from sklearn.ensemble import RandomForestClassifier\n",
    "from sklearn.tree import DecisionTreeClassifier\n",
    "from sklearn.metrics import accuracy_score\n",
    "from sklearn.preprocessing import StandardScaler"
   ]
  },
  {
   "cell_type": "code",
   "execution_count": 31,
   "metadata": {},
   "outputs": [],
   "source": [
    "df  = pd.read_csv('loan_approval_dataset.csv')"
   ]
  },
  {
   "cell_type": "code",
   "execution_count": 32,
   "metadata": {},
   "outputs": [
    {
     "name": "stdout",
     "output_type": "stream",
     "text": [
      "Shape of the dataset: (4269, 13)\n",
      "\n",
      "Columns: Index(['loan_id', ' no_of_dependents', ' education', ' self_employed',\n",
      "       ' income_annum', ' loan_amount', ' loan_term', ' cibil_score',\n",
      "       ' residential_assets_value', ' commercial_assets_value',\n",
      "       ' luxury_assets_value', ' bank_asset_value', ' loan_status'],\n",
      "      dtype='object')\n",
      "\n",
      "Data types of columns:\n",
      " loan_id                       int64\n",
      " no_of_dependents             int64\n",
      " education                   object\n",
      " self_employed               object\n",
      " income_annum                 int64\n",
      " loan_amount                  int64\n",
      " loan_term                    int64\n",
      " cibil_score                  int64\n",
      " residential_assets_value     int64\n",
      " commercial_assets_value      int64\n",
      " luxury_assets_value          int64\n",
      " bank_asset_value             int64\n",
      " loan_status                 object\n",
      "dtype: object\n",
      "\n",
      "Summary statistics:\n",
      "            loan_id   no_of_dependents   income_annum   loan_amount  \\\n",
      "count  4269.000000        4269.000000   4.269000e+03  4.269000e+03   \n",
      "mean   2135.000000           2.498712   5.059124e+06  1.513345e+07   \n",
      "std    1232.498479           1.695910   2.806840e+06  9.043363e+06   \n",
      "min       1.000000           0.000000   2.000000e+05  3.000000e+05   \n",
      "25%    1068.000000           1.000000   2.700000e+06  7.700000e+06   \n",
      "50%    2135.000000           3.000000   5.100000e+06  1.450000e+07   \n",
      "75%    3202.000000           4.000000   7.500000e+06  2.150000e+07   \n",
      "max    4269.000000           5.000000   9.900000e+06  3.950000e+07   \n",
      "\n",
      "         loan_term   cibil_score   residential_assets_value  \\\n",
      "count  4269.000000   4269.000000               4.269000e+03   \n",
      "mean     10.900445    599.936051               7.472617e+06   \n",
      "std       5.709187    172.430401               6.503637e+06   \n",
      "min       2.000000    300.000000              -1.000000e+05   \n",
      "25%       6.000000    453.000000               2.200000e+06   \n",
      "50%      10.000000    600.000000               5.600000e+06   \n",
      "75%      16.000000    748.000000               1.130000e+07   \n",
      "max      20.000000    900.000000               2.910000e+07   \n",
      "\n",
      "        commercial_assets_value   luxury_assets_value   bank_asset_value  \n",
      "count              4.269000e+03          4.269000e+03       4.269000e+03  \n",
      "mean               4.973155e+06          1.512631e+07       4.976692e+06  \n",
      "std                4.388966e+06          9.103754e+06       3.250185e+06  \n",
      "min                0.000000e+00          3.000000e+05       0.000000e+00  \n",
      "25%                1.300000e+06          7.500000e+06       2.300000e+06  \n",
      "50%                3.700000e+06          1.460000e+07       4.600000e+06  \n",
      "75%                7.600000e+06          2.170000e+07       7.100000e+06  \n",
      "max                1.940000e+07          3.920000e+07       1.470000e+07  \n"
     ]
    }
   ],
   "source": [
    "\n",
    "# Display basic information about the dataset\n",
    "print(\"Shape of the dataset:\", df.shape)\n",
    "print(\"\\nColumns:\", df.columns)\n",
    "print(\"\\nData types of columns:\\n\", df.dtypes)\n",
    "\n",
    "# Display summary statistics\n",
    "print(\"\\nSummary statistics:\\n\", df.describe())"
   ]
  },
  {
   "cell_type": "code",
   "execution_count": 33,
   "metadata": {},
   "outputs": [
    {
     "name": "stdout",
     "output_type": "stream",
     "text": [
      "\n",
      "Missing values:\n",
      " loan_id                      0\n",
      " no_of_dependents            0\n",
      " education                   0\n",
      " self_employed               0\n",
      " income_annum                0\n",
      " loan_amount                 0\n",
      " loan_term                   0\n",
      " cibil_score                 0\n",
      " residential_assets_value    0\n",
      " commercial_assets_value     0\n",
      " luxury_assets_value         0\n",
      " bank_asset_value            0\n",
      " loan_status                 0\n",
      "dtype: int64\n"
     ]
    }
   ],
   "source": [
    "print(\"\\nMissing values:\\n\", df.isnull().sum())"
   ]
  },
  {
   "cell_type": "code",
   "execution_count": 41,
   "metadata": {},
   "outputs": [],
   "source": [
    "x = df.select_dtypes(include = ['number'])"
   ]
  },
  {
   "cell_type": "code",
   "execution_count": 42,
   "metadata": {},
   "outputs": [],
   "source": [
    "x.columns = x.columns.str.strip()"
   ]
  },
  {
   "cell_type": "code",
   "execution_count": 43,
   "metadata": {},
   "outputs": [],
   "source": [
    "x['assets_value'] = x['residential_assets_value'] + x['commercial_assets_value'] + x['luxury_assets_value'] + x['bank_asset_value']\n",
    "\n",
    "sc = StandardScaler()\n",
    "X_sc = sc.fit_transform(x)"
   ]
  },
  {
   "cell_type": "code",
   "execution_count": 45,
   "metadata": {},
   "outputs": [
    {
     "name": "stdout",
     "output_type": "stream",
     "text": [
      "[[ 3.01473593 -0.14686202]\n",
      " [-1.5086772   0.80751519]\n",
      " [ 3.42816135  0.18691826]\n",
      " ...\n",
      " [ 1.38360219 -1.12326591]\n",
      " [-0.5475818  -1.35004424]\n",
      " [ 4.91552105 -1.04158955]]\n"
     ]
    }
   ],
   "source": [
    "# Importing PCA\n",
    "from sklearn.decomposition import PCA\n",
    "\n",
    "\n",
    "pca = PCA(n_components=2)\n",
    "pca.fit(X_sc)\n",
    "x_pca = pca.transform(X_sc)\n",
    "\n",
    "\n",
    "\n",
    "print(x_pca)\n"
   ]
  },
  {
   "cell_type": "code",
   "execution_count": null,
   "metadata": {},
   "outputs": [],
   "source": []
  },
  {
   "cell_type": "code",
   "execution_count": null,
   "metadata": {},
   "outputs": [],
   "source": []
  },
  {
   "cell_type": "code",
   "execution_count": null,
   "metadata": {},
   "outputs": [],
   "source": []
  },
  {
   "cell_type": "code",
   "execution_count": 46,
   "metadata": {},
   "outputs": [],
   "source": [
    "#y = df['loan_status']\n",
    "#y = df.loc[:, 'loan_status']\n",
    "#y = df.iloc[:, df.columns.get_loc('loan_status')]\n",
    "Y = df.select_dtypes(include = ['object'])\n",
    "\n"
   ]
  },
  {
   "cell_type": "code",
   "execution_count": 47,
   "metadata": {},
   "outputs": [],
   "source": [
    "\n",
    "Y.head()\n",
    "Y.columns = Y.columns.str.strip()\n",
    "y = Y['loan_status']\n"
   ]
  },
  {
   "cell_type": "code",
   "execution_count": 26,
   "metadata": {},
   "outputs": [],
   "source": []
  },
  {
   "cell_type": "code",
   "execution_count": 48,
   "metadata": {},
   "outputs": [],
   "source": [
    "X_train, X_test, y_train, y_test = train_test_split(x_pca, y, test_size=0.2, random_state=42)"
   ]
  },
  {
   "cell_type": "code",
   "execution_count": 49,
   "metadata": {},
   "outputs": [],
   "source": [
    "\n",
    "rf_classifier = RandomForestClassifier(random_state=42)\n",
    "\n",
    "dc_classifier = DecisionTreeClassifier(random_state=42)"
   ]
  },
  {
   "cell_type": "code",
   "execution_count": 50,
   "metadata": {},
   "outputs": [],
   "source": [
    "\n",
    "rf_classifier.fit(X_train, y_train)\n",
    "\n",
    "\n",
    "y_pred = rf_classifier.predict(X_test)\n",
    "\n",
    "\n",
    "dc_classifier.fit(X_train, y_train)\n",
    "\n",
    "y_pred1 = rf_classifier.predict(X_test)\n",
    "\n",
    "\n"
   ]
  },
  {
   "cell_type": "code",
   "execution_count": 51,
   "metadata": {},
   "outputs": [
    {
     "name": "stdout",
     "output_type": "stream",
     "text": [
      "RF Accuracy: 0.5866510538641686\n",
      "DC Accuracy: 0.5866510538641686\n"
     ]
    }
   ],
   "source": [
    "\n",
    "accuracy = accuracy_score(y_test, y_pred)\n",
    "print(\"RF Accuracy:\", accuracy)\n",
    "\n",
    "accuracy1 = accuracy_score(y_test, y_pred1)\n",
    "print(\"DC Accuracy:\", accuracy1)"
   ]
  },
  {
   "cell_type": "code",
   "execution_count": 52,
   "metadata": {},
   "outputs": [
    {
     "data": {
      "image/png": "[encoded data removed]",
      "text/plain": [
       "<Figure size 640x480 with 1 Axes>"
      ]
     },
     "metadata": {},
     "output_type": "display_data"
    }
   ],
   "source": [
    "\n",
    "\n",
    "\n",
    "import matplotlib.pyplot as plt\n",
    "labels = ['Decision Tree', 'Random Forest']\n",
    "accuracies = [accuracy1, accuracy]\n",
    "\n",
    "plt.bar(labels, accuracies, color=['blue', 'green'])\n",
    "plt.xlabel('Classifier')\n",
    "plt.ylabel('Accuracy')\n",
    "plt.title('Comparison of Decision Tree and Random Forest')\n",
    "plt.ylim(0.0, 1.0)\n",
    "plt.show()\n"
   ]
  },
  {
   "cell_type": "code",
   "execution_count": null,
   "metadata": {},
   "outputs": [],
   "source": []
  }
 ],
 "metadata": {
  "kernelspec": {
   "display_name": "base",
   "language": "python",
   "name": "python3"
  },
  "language_info": {
   "codemirror_mode": {
    "name": "ipython",
    "version": 3
   },
   "file_extension": ".py",
   "mimetype": "text/x-python",
   "name": "python",
   "nbconvert_exporter": "python",
   "pygments_lexer": "ipython3",
   "version": "3.11.7"
  }
 },
 "nbformat": 4,
 "nbformat_minor": 2
}
