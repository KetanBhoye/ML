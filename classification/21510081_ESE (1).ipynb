{
 "cells": [
  {
   "cell_type": "markdown",
   "id": "06029383",
   "metadata": {},
   "source": [
    "# Import Machine learning libraries "
   ]
  },
  {
   "cell_type": "code",
   "execution_count": 77,
   "id": "aa5e0ee9",
   "metadata": {},
   "outputs": [],
   "source": [
    "import pandas as pd\n",
    "import numpy as np\n",
    "from sklearn.model_selection import train_test_split\n",
    "from sklearn.preprocessing import StandardScaler\n",
    "from sklearn.linear_model import LogisticRegression\n",
    "from sklearn.metrics import accuracy_score, precision_score, recall_score, f1_score, roc_auc_score\n",
    "from sklearn.tree import DecisionTreeClassifier\n",
    "from sklearn.ensemble import RandomForestClassifier"
   ]
  },
  {
   "cell_type": "markdown",
   "id": "65e4db10",
   "metadata": {},
   "source": [
    "# Dataset Loading"
   ]
  },
  {
   "cell_type": "code",
   "execution_count": 78,
   "id": "15ddf496",
   "metadata": {},
   "outputs": [],
   "source": [
    "# Load the dataset\n",
    "data = pd.read_csv(\"cancer.csv\")"
   ]
  },
  {
   "cell_type": "code",
   "execution_count": 79,
   "id": "28d8b4a2",
   "metadata": {},
   "outputs": [
    {
     "name": "stdout",
     "output_type": "stream",
     "text": [
      "   Class  age  menopause  tumor-size  inv-nodes  node-caps  deg-malig  breast  \\\n",
      "0      0    5          1           1          1          2          1       3   \n",
      "1      0    5          4           4          5          7         10       3   \n",
      "2      0    3          1           1          1          2          2       3   \n",
      "3      0    6          8           8          1          3          4       3   \n",
      "4      0    4          1           1          3          2          1       3   \n",
      "\n",
      "   breast-quad  irradiat  \n",
      "0            1         1  \n",
      "1            2         1  \n",
      "2            1         1  \n",
      "3            7         1  \n",
      "4            1         1  \n"
     ]
    }
   ],
   "source": [
    "# Check the first few rows of the dataset\n",
    "print(data.head())"
   ]
  },
  {
   "cell_type": "code",
   "execution_count": 80,
   "id": "cfcf383a",
   "metadata": {},
   "outputs": [],
   "source": [
    "# Select features and target variable\n",
    "features = data[['age', 'menopause', 'tumor-size', 'inv-nodes', 'node-caps', 'deg-malig', 'breast', 'breast-quad', 'irradiat']]\n",
    "target = data['Class']"
   ]
  },
  {
   "cell_type": "markdown",
   "id": "1b5694b2",
   "metadata": {},
   "source": [
    "# EDA and pre processing"
   ]
  },
  {
   "cell_type": "code",
   "execution_count": 81,
   "id": "4851be4d",
   "metadata": {},
   "outputs": [],
   "source": [
    "# Handle missing values\n",
    "# drop rows with missing values\n",
    "data = data.dropna()\n"
   ]
  },
  {
   "cell_type": "code",
   "execution_count": 82,
   "id": "4bd957e6",
   "metadata": {},
   "outputs": [
    {
     "data": {
      "text/plain": [
       "Class          0\n",
       "age            0\n",
       "menopause      0\n",
       "tumor-size     0\n",
       "inv-nodes      0\n",
       "node-caps      0\n",
       "deg-malig      0\n",
       "breast         0\n",
       "breast-quad    0\n",
       "irradiat       0\n",
       "dtype: int64"
      ]
     },
     "execution_count": 82,
     "metadata": {},
     "output_type": "execute_result"
    }
   ],
   "source": [
    "data.isnull().sum()"
   ]
  },
  {
   "cell_type": "markdown",
   "id": "c34736d1",
   "metadata": {},
   "source": [
    "# Apply appropriate ML model - (logistic regression)"
   ]
  },
  {
   "cell_type": "code",
   "execution_count": 83,
   "id": "ee99507b",
   "metadata": {},
   "outputs": [],
   "source": [
    "# Split the dataset into training and testing sets\n",
    "X_train, X_test, y_train, y_test = train_test_split(features, target, test_size=0.2, random_state=42)"
   ]
  },
  {
   "cell_type": "code",
   "execution_count": 84,
   "id": "c690fc18",
   "metadata": {},
   "outputs": [],
   "source": [
    "# Standardize the features\n",
    "scaler = StandardScaler()\n",
    "X_train = scaler.fit_transform(X_train)\n",
    "X_test = scaler.transform(X_test)\n"
   ]
  },
  {
   "cell_type": "code",
   "execution_count": 85,
   "id": "ac2997d5",
   "metadata": {},
   "outputs": [],
   "source": [
    "# Initialize the model (Logistic Regression)\n",
    "model = LogisticRegression(random_state=42)"
   ]
  },
  {
   "cell_type": "code",
   "execution_count": 86,
   "id": "75ee100b",
   "metadata": {},
   "outputs": [
    {
     "data": {
      "text/html": [
       "<style>#sk-container-id-5 {color: black;background-color: white;}#sk-container-id-5 pre{padding: 0;}#sk-container-id-5 div.sk-toggleable {background-color: white;}#sk-container-id-5 label.sk-toggleable__label {cursor: pointer;display: block;width: 100%;margin-bottom: 0;padding: 0.3em;box-sizing: border-box;text-align: center;}#sk-container-id-5 label.sk-toggleable__label-arrow:before {content: \"▸\";float: left;margin-right: 0.25em;color: #696969;}#sk-container-id-5 label.sk-toggleable__label-arrow:hover:before {color: black;}#sk-container-id-5 div.sk-estimator:hover label.sk-toggleable__label-arrow:before {color: black;}#sk-container-id-5 div.sk-toggleable__content {max-height: 0;max-width: 0;overflow: hidden;text-align: left;background-color: #f0f8ff;}#sk-container-id-5 div.sk-toggleable__content pre {margin: 0.2em;color: black;border-radius: 0.25em;background-color: #f0f8ff;}#sk-container-id-5 input.sk-toggleable__control:checked~div.sk-toggleable__content {max-height: 200px;max-width: 100%;overflow: auto;}#sk-container-id-5 input.sk-toggleable__control:checked~label.sk-toggleable__label-arrow:before {content: \"▾\";}#sk-container-id-5 div.sk-estimator input.sk-toggleable__control:checked~label.sk-toggleable__label {background-color: #d4ebff;}#sk-container-id-5 div.sk-label input.sk-toggleable__control:checked~label.sk-toggleable__label {background-color: #d4ebff;}#sk-container-id-5 input.sk-hidden--visually {border: 0;clip: rect(1px 1px 1px 1px);clip: rect(1px, 1px, 1px, 1px);height: 1px;margin: -1px;overflow: hidden;padding: 0;position: absolute;width: 1px;}#sk-container-id-5 div.sk-estimator {font-family: monospace;background-color: #f0f8ff;border: 1px dotted black;border-radius: 0.25em;box-sizing: border-box;margin-bottom: 0.5em;}#sk-container-id-5 div.sk-estimator:hover {background-color: #d4ebff;}#sk-container-id-5 div.sk-parallel-item::after {content: \"\";width: 100%;border-bottom: 1px solid gray;flex-grow: 1;}#sk-container-id-5 div.sk-label:hover label.sk-toggleable__label {background-color: #d4ebff;}#sk-container-id-5 div.sk-serial::before {content: \"\";position: absolute;border-left: 1px solid gray;box-sizing: border-box;top: 0;bottom: 0;left: 50%;z-index: 0;}#sk-container-id-5 div.sk-serial {display: flex;flex-direction: column;align-items: center;background-color: white;padding-right: 0.2em;padding-left: 0.2em;position: relative;}#sk-container-id-5 div.sk-item {position: relative;z-index: 1;}#sk-container-id-5 div.sk-parallel {display: flex;align-items: stretch;justify-content: center;background-color: white;position: relative;}#sk-container-id-5 div.sk-item::before, #sk-container-id-5 div.sk-parallel-item::before {content: \"\";position: absolute;border-left: 1px solid gray;box-sizing: border-box;top: 0;bottom: 0;left: 50%;z-index: -1;}#sk-container-id-5 div.sk-parallel-item {display: flex;flex-direction: column;z-index: 1;position: relative;background-color: white;}#sk-container-id-5 div.sk-parallel-item:first-child::after {align-self: flex-end;width: 50%;}#sk-container-id-5 div.sk-parallel-item:last-child::after {align-self: flex-start;width: 50%;}#sk-container-id-5 div.sk-parallel-item:only-child::after {width: 0;}#sk-container-id-5 div.sk-dashed-wrapped {border: 1px dashed gray;margin: 0 0.4em 0.5em 0.4em;box-sizing: border-box;padding-bottom: 0.4em;background-color: white;}#sk-container-id-5 div.sk-label label {font-family: monospace;font-weight: bold;display: inline-block;line-height: 1.2em;}#sk-container-id-5 div.sk-label-container {text-align: center;}#sk-container-id-5 div.sk-container {/* jupyter's `normalize.less` sets `[hidden] { display: none; }` but bootstrap.min.css set `[hidden] { display: none !important; }` so we also need the `!important` here to be able to override the default hidden behavior on the sphinx rendered scikit-learn.org. See: https://github.com/scikit-learn/scikit-learn/issues/21755 */display: inline-block !important;position: relative;}#sk-container-id-5 div.sk-text-repr-fallback {display: none;}</style><div id=\"sk-container-id-5\" class=\"sk-top-container\"><div class=\"sk-text-repr-fallback\"><pre>LogisticRegression(random_state=42)</pre><b>In a Jupyter environment, please rerun this cell to show the HTML representation or trust the notebook. <br />On GitHub, the HTML representation is unable to render, please try loading this page with nbviewer.org.</b></div><div class=\"sk-container\" hidden><div class=\"sk-item\"><div class=\"sk-estimator sk-toggleable\"><input class=\"sk-toggleable__control sk-hidden--visually\" id=\"sk-estimator-id-5\" type=\"checkbox\" checked><label for=\"sk-estimator-id-5\" class=\"sk-toggleable__label sk-toggleable__label-arrow\">LogisticRegression</label><div class=\"sk-toggleable__content\"><pre>LogisticRegression(random_state=42)</pre></div></div></div></div></div>"
      ],
      "text/plain": [
       "LogisticRegression(random_state=42)"
      ]
     },
     "execution_count": 86,
     "metadata": {},
     "output_type": "execute_result"
    }
   ],
   "source": [
    "# Train the model\n",
    "model.fit(X_train, y_train)\n"
   ]
  },
  {
   "cell_type": "code",
   "execution_count": 87,
   "id": "db7c45af",
   "metadata": {},
   "outputs": [],
   "source": [
    "# Make predictions on the test set\n",
    "y_pred = model.predict(X_test)\n"
   ]
  },
  {
   "cell_type": "code",
   "execution_count": 88,
   "id": "faa86776",
   "metadata": {},
   "outputs": [
    {
     "data": {
      "text/plain": [
       "array([1, 1, 0, 0, 0, 0, 0, 0, 1, 0, 0, 0, 0, 0, 0, 1, 0, 1, 0, 1, 1, 0,\n",
       "       1, 0, 0, 0, 1, 1, 0, 0, 0, 1, 1, 1, 0, 0, 1, 0, 1, 1, 0, 1, 1, 0,\n",
       "       0, 1, 0, 1, 0, 1, 0, 0, 0, 1, 0, 1, 1, 0, 0, 1, 0, 0, 0, 1, 0, 0,\n",
       "       1, 1, 0, 0, 1, 0, 0, 0, 1, 1, 0, 0, 1, 1, 1, 1, 0, 1, 0, 1, 0, 0,\n",
       "       1, 0, 0, 1, 0, 0, 0, 0, 1, 1, 0, 0, 0, 0, 1, 0, 1, 0, 0, 0, 1, 0,\n",
       "       1, 1, 1, 0, 0, 0, 0, 0, 0, 0, 1, 1, 0, 0, 0, 0, 1, 0, 1, 0, 0, 0,\n",
       "       1, 1, 1, 0, 0], dtype=int64)"
      ]
     },
     "execution_count": 88,
     "metadata": {},
     "output_type": "execute_result"
    }
   ],
   "source": [
    "y_pred"
   ]
  },
  {
   "cell_type": "markdown",
   "id": "1f3e42c6",
   "metadata": {},
   "source": [
    "# Computing Evaluation matrix"
   ]
  },
  {
   "cell_type": "code",
   "execution_count": 89,
   "id": "b80dc1d3",
   "metadata": {},
   "outputs": [],
   "source": [
    "# Evaluate the model's performance\n",
    "accuracy = accuracy_score(y_test, y_pred)\n",
    "precision = precision_score(y_test, y_pred)\n",
    "recall = recall_score(y_test, y_pred)\n",
    "f1 = f1_score(y_test, y_pred)\n",
    "roc_auc = roc_auc_score(y_test, y_pred)\n"
   ]
  },
  {
   "cell_type": "markdown",
   "id": "444e4301",
   "metadata": {},
   "source": [
    "# Accuracy of Model"
   ]
  },
  {
   "cell_type": "code",
   "execution_count": 90,
   "id": "08b076f0",
   "metadata": {},
   "outputs": [
    {
     "name": "stdout",
     "output_type": "stream",
     "text": [
      "Accuracy: 0.9562043795620438\n",
      "Precision: 0.9814814814814815\n",
      "Recall: 0.9137931034482759\n",
      "F1 Score: 0.9464285714285714\n",
      "ROC-AUC Score: 0.9505674378000872\n"
     ]
    }
   ],
   "source": [
    "# Print evaluation metrics\n",
    "print(\"Accuracy:\", accuracy)\n",
    "print(\"Precision:\", precision)\n",
    "print(\"Recall:\", recall)\n",
    "print(\"F1 Score:\", f1)\n",
    "print(\"ROC-AUC Score:\", roc_auc)\n"
   ]
  },
  {
   "cell_type": "markdown",
   "id": "86bc5cf3",
   "metadata": {},
   "source": [
    "# Other Classifiers (Random forest, Desicion tree)"
   ]
  },
  {
   "cell_type": "code",
   "execution_count": 91,
   "id": "a7df447a",
   "metadata": {},
   "outputs": [],
   "source": [
    "# Decision Tree\n",
    "dt_model = DecisionTreeClassifier(random_state=42)\n",
    "dt_model.fit(X_train, y_train)\n",
    "dt_y_pred = dt_model.predict(X_test)"
   ]
  },
  {
   "cell_type": "code",
   "execution_count": 92,
   "id": "68ef13aa",
   "metadata": {},
   "outputs": [],
   "source": [
    "# Random Forest\n",
    "rf_model = RandomForestClassifier(random_state=42)\n",
    "rf_model.fit(X_train, y_train)\n",
    "rf_y_pred = rf_model.predict(X_test)"
   ]
  },
  {
   "cell_type": "code",
   "execution_count": 93,
   "id": "69d06914",
   "metadata": {},
   "outputs": [
    {
     "name": "stdout",
     "output_type": "stream",
     "text": [
      "\n",
      "Decision Tree Metrics\n",
      "Accuracy: 0.9343065693430657\n",
      "Precision: 0.9622641509433962\n",
      "Recall: 0.8793103448275862\n",
      "F1 Score: 0.9189189189189189\n",
      "ROC-AUC Score: 0.9269969445656918\n"
     ]
    }
   ],
   "source": [
    "# Print evaluation metrics for other models if desired\n",
    "print(\"\\nDecision Tree Metrics\")\n",
    "print(\"Accuracy:\", accuracy_score(y_test, dt_y_pred))\n",
    "print(\"Precision:\", precision_score(y_test, dt_y_pred))\n",
    "print(\"Recall:\", recall_score(y_test, dt_y_pred))\n",
    "print(\"F1 Score:\", f1_score(y_test, dt_y_pred))\n",
    "print(\"ROC-AUC Score:\", roc_auc_score(y_test, dt_y_pred))"
   ]
  },
  {
   "cell_type": "code",
   "execution_count": 94,
   "id": "5c76030d",
   "metadata": {},
   "outputs": [
    {
     "name": "stdout",
     "output_type": "stream",
     "text": [
      "\n",
      "Random Forest Metrics\n",
      "Accuracy: 0.9562043795620438\n",
      "Precision: 0.9814814814814815\n",
      "Recall: 0.9137931034482759\n",
      "F1 Score: 0.9464285714285714\n",
      "ROC-AUC Score: 0.9505674378000872\n"
     ]
    }
   ],
   "source": [
    "print(\"\\nRandom Forest Metrics\")\n",
    "print(\"Accuracy:\", accuracy_score(y_test, rf_y_pred))\n",
    "print(\"Precision:\", precision_score(y_test, rf_y_pred))\n",
    "print(\"Recall:\", recall_score(y_test, rf_y_pred))\n",
    "print(\"F1 Score:\", f1_score(y_test, rf_y_pred))\n",
    "print(\"ROC-AUC Score:\", roc_auc_score(y_test, rf_y_pred))"
   ]
  },
  {
   "cell_type": "markdown",
   "id": "4f2e27ce",
   "metadata": {},
   "source": [
    "# Theory "
   ]
  },
  {
   "cell_type": "code",
   "execution_count": null,
   "id": "e4743b1a",
   "metadata": {},
   "outputs": [],
   "source": [
    "So in question there is asked to perform binary classification TO PREDICT WHETHER A TUMOR IS MALIGNANT OR BENIGN BASED ON \n",
    "PATIENT AND TUMER characteristics for binary classification there are different classification \n",
    "techniques are used , so I have used  Logistic Regression\n",
    "\n",
    "    Steps involved in preparing model\n",
    "    1)imported important python libraries \n",
    "    2)Load Dataset\n",
    "    3)EDA and pre-processing(removing null value , standardising data,remove duplicates )\n",
    "    3)Apply appropriate Ml model (Logistic regression)\n",
    "       3.1)training data\n",
    "       3.2)testing data\n",
    "    4)Discuss computing evaluation matrix (confusion matrix)\n",
    "    5)Accuracy of model\n",
    "    6)Check accuracies of other classifiction techniques (random forest and decision tree)\n",
    "    \n",
    "Evaluation matrix score of Logistic regression is :-\n",
    "Accuracy: 0.9562043795620438\n",
    "Precision: 0.9814814814814815\n",
    "Recall: 0.9137931034482759\n",
    "F1 Score: 0.9464285714285714\n",
    "ROC-AUC Score: 0.9505674378000872\n",
    "    \n",
    "    \n",
    "Decision Tree Metrics\n",
    "Accuracy: 0.9343065693430657\n",
    "Precision: 0.9622641509433962\n",
    "Recall: 0.8793103448275862\n",
    "F1 Score: 0.9189189189189189\n",
    "ROC-AUC Score: 0.9269969445656918\n",
    "    \n",
    "    \n",
    "\n",
    "\n",
    "Random Forest Metrics\n",
    "Accuracy: 0.9562043795620438\n",
    "Precision: 0.9814814814814815\n",
    "Recall: 0.9137931034482759\n",
    "F1 Score: 0.9464285714285714\n",
    "ROC-AUC Score: 0.9505674378000872\n",
    "    "
   ]
  }
 ],
 "metadata": {
  "kernelspec": {
   "display_name": "Python 3 (ipykernel)",
   "language": "python",
   "name": "python3"
  },
  "language_info": {
   "codemirror_mode": {
    "name": "ipython",
    "version": 3
   },
   "file_extension": ".py",
   "mimetype": "text/x-python",
   "name": "python",
   "nbconvert_exporter": "python",
   "pygments_lexer": "ipython3",
   "version": "3.11.7"
  }
 },
 "nbformat": 4,
 "nbformat_minor": 5
}
